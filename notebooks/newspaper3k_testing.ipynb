{
 "cells": [
  {
   "cell_type": "code",
   "execution_count": 1,
   "metadata": {},
   "outputs": [],
   "source": [
    "import nltk\n",
    "from nltk.sentiment.vader import SentimentIntensityAnalyzer\n",
    "from newspaper import Article"
   ]
  },
  {
   "cell_type": "code",
   "execution_count": 2,
   "metadata": {},
   "outputs": [],
   "source": [
    "url = 'https://finance.yahoo.com/news/u-homebuilder-confidence-matches-record-145345025.html'\n",
    "article = Article(url)\n",
    "article.download()\n",
    "article.parse()\n",
    "article.nlp()\n",
    "\n",
    "sid = SentimentIntensityAnalyzer()"
   ]
  },
  {
   "cell_type": "code",
   "execution_count": 3,
   "metadata": {},
   "outputs": [
    {
     "name": "stdout",
     "output_type": "stream",
     "text": [
      "As U.S. homebuilder confidence matches record high, mortgage delinquencies rise\n",
      "The National Association of Home Builders/Wells Fargo Housing Market Index rose 6 points to 78, matching a series record set in 1998.\n",
      "The median expectation among 30 economists in a Reuters poll was for a rise to 73 from July's reading of 72.\n",
      "There was a glimmer of positive news in the delinquency report: The 30-day delinquency rate dropped by 0.33 percentage point to 2.34% in the second quarter.\n",
      "\"The flood of new delinquencies is dropping off,\" Walsh said, adding that the mortgage delinquency rate tends to rise when the unemployment rate increases and vice versa.\n",
      "Housing starts plunged this spring during widespread lockdown orders issued to try to contain the virus, but have rebounded sharply from a six-year low hit in April.\n",
      "['reading', 'rise', 'program', 'housing', 'delinquencies', 'homeowners', 'report', 'confidence', 'starts', 'matches', 'record', 'homebuilder', 'rate', 'delinquency', 'walsh', 'rose', 'mortgage', 'high']\n",
      "0.4736\n"
     ]
    }
   ],
   "source": [
    "print(article.title)\n",
    "print(article.summary)\n",
    "print(article.keywords)\n",
    "print(sid.polarity_scores(article.text)['compound'])"
   ]
  },
  {
   "cell_type": "code",
   "execution_count": null,
   "metadata": {},
   "outputs": [],
   "source": []
  }
 ],
 "metadata": {
  "kernelspec": {
   "display_name": "Python 3",
   "language": "python",
   "name": "python3"
  },
  "language_info": {
   "codemirror_mode": {
    "name": "ipython",
    "version": 3
   },
   "file_extension": ".py",
   "mimetype": "text/x-python",
   "name": "python",
   "nbconvert_exporter": "python",
   "pygments_lexer": "ipython3",
   "version": "3.7.7"
  }
 },
 "nbformat": 4,
 "nbformat_minor": 4
}
